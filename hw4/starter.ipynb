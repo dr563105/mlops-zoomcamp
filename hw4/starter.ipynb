{
    "cells": [
        {
            "cell_type": "code",
            "execution_count": 2,
            "id": "2c51efaa",
            "metadata": {},
            "outputs": [
                {
                    "name": "stdout",
                    "output_type": "stream",
                    "text": [
                        "scikit-learn @ file:///Users/runner/miniforge3/conda-bld/scikit-learn_1652976950430/work\n"
                    ]
                }
            ],
            "source": [
                "!pip freeze | grep scikit-learn"
            ]
        },
        {
            "cell_type": "code",
            "execution_count": null,
            "id": "0ef880a0",
            "metadata": {},
            "outputs": [
                {
                    "ename": "",
                    "evalue": "",
                    "output_type": "error",
                    "traceback": [
                        "\u001b[1;31mRunning cells with 'Python 3.9.13 ('env1')' requires ipykernel package.\n",
                        "Run the following command to install 'ipykernel' into the Python environment. \n",
                        "Command: 'conda install -n env1 ipykernel --update-deps --force-reinstall'"
                    ]
                }
            ],
            "source": [
                "import pickle\n",
                "import pandas as pd"
            ]
        },
        {
            "cell_type": "code",
            "execution_count": 4,
            "id": "7836ccfd",
            "metadata": {},
            "outputs": [
                {
                    "name": "stderr",
                    "output_type": "stream",
                    "text": [
                        "/Users/dross/miniforge3/envs/mlops/lib/python3.9/site-packages/sklearn/base.py:329: UserWarning: Trying to unpickle estimator DictVectorizer from version 1.0.2 when using version 1.1.1. This might lead to breaking code or invalid results. Use at your own risk. For more info please refer to:\n",
                        "https://scikit-learn.org/stable/model_persistence.html#security-maintainability-limitations\n",
                        "  warnings.warn(\n",
                        "/Users/dross/miniforge3/envs/mlops/lib/python3.9/site-packages/sklearn/base.py:329: UserWarning: Trying to unpickle estimator LinearRegression from version 1.0.2 when using version 1.1.1. This might lead to breaking code or invalid results. Use at your own risk. For more info please refer to:\n",
                        "https://scikit-learn.org/stable/model_persistence.html#security-maintainability-limitations\n",
                        "  warnings.warn(\n"
                    ]
                }
            ],
            "source": [
                "with open('model.bin', 'rb') as f_in:\n",
                "    dv, lr = pickle.load(f_in)"
            ]
        },
        {
            "cell_type": "code",
            "execution_count": null,
            "id": "41c08294",
            "metadata": {},
            "outputs": [],
            "source": [
                "categorical = ['PUlocationID', 'DOlocationID']\n",
                "\n",
                "def read_data(filename):\n",
                "    df = pd.read_parquet(filename)\n",
                "    \n",
                "    df['duration'] = df.dropOff_datetime - df.pickup_datetime\n",
                "    df['duration'] = df.duration.dt.total_seconds() / 60\n",
                "\n",
                "    df = df[(df.duration >= 1) & (df.duration <= 60)].copy()\n",
                "\n",
                "    df[categorical] = df[categorical].fillna(-1).astype('int').astype('str')\n",
                "    \n",
                "    return df"
            ]
        },
        {
            "cell_type": "code",
            "execution_count": null,
            "id": "76265e55",
            "metadata": {},
            "outputs": [],
            "source": [
                "https://nyc-tlc.s3.amazonaws.com/trip+data/fhv_tripdata_2021-02.parquet"
            ]
        },
        {
            "cell_type": "code",
            "execution_count": 1,
            "id": "4854399a",
            "metadata": {},
            "outputs": [
                {
                    "ename": "NameError",
                    "evalue": "name 'read_data' is not defined",
                    "output_type": "error",
                    "traceback": [
                        "\u001b[0;31m---------------------------------------------------------------------------\u001b[0m",
                        "\u001b[0;31mNameError\u001b[0m                                 Traceback (most recent call last)",
                        "\u001b[1;32m/Users/dross/Desktop/educ/mlops-zoomcamp_1/mlops-zoomcamp/hw4/starter.ipynb Cell 1'\u001b[0m in \u001b[0;36m<cell line: 1>\u001b[0;34m()\u001b[0m\n\u001b[0;32m----> <a href='vscode-notebook-cell:/Users/dross/Desktop/educ/mlops-zoomcamp_1/mlops-zoomcamp/hw4/starter.ipynb#ch0000000?line=0'>1</a>\u001b[0m df \u001b[39m=\u001b[39m read_data(\u001b[39m'\u001b[39m\u001b[39mhttps://nyc-tlc.s3.amazonaws.com/trip+data/fhv_tripdata_2021-02.parquet\u001b[39m\u001b[39m'\u001b[39m)\n",
                        "\u001b[0;31mNameError\u001b[0m: name 'read_data' is not defined"
                    ]
                }
            ],
            "source": [
                "df = read_data('https://nyc-tlc.s3.amazonaws.com/trip+data/fhv_tripdata_2021-02.parquet')"
            ]
        },
        {
            "cell_type": "code",
            "execution_count": null,
            "id": "669fda0a",
            "metadata": {},
            "outputs": [],
            "source": [
                "dicts = df[categorical].to_dict(orient='records')\n",
                "X_val = dv.transform(dicts)\n",
                "y_pred = lr.predict(X_val)"
            ]
        }
    ],
    "metadata": {
        "kernelspec": {
            "display_name": "Python 3.9.13 ('env1')",
            "language": "python",
            "name": "python3"
        },
        "language_info": {
            "codemirror_mode": {
                "name": "ipython",
                "version": 3
            },
            "file_extension": ".py",
            "mimetype": "text/x-python",
            "name": "python",
            "nbconvert_exporter": "python",
            "pygments_lexer": "ipython3",
            "version": "3.9.13"
        },
        "vscode": {
            "interpreter": {
                "hash": "531e237fc2954819a1766c274951c21921e3cfdb104661f33d2c1c26af1eb029"
            }
        }
    },
    "nbformat": 4,
    "nbformat_minor": 5
}

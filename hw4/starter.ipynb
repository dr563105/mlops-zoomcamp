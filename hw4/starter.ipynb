{
    "cells": [
        {
            "cell_type": "code",
            "execution_count": 1,
            "id": "2c51efaa",
            "metadata": {},
            "outputs": [
                {
                    "name": "stdout",
                    "output_type": "stream",
                    "text": [
                        "scikit-learn @ file:///tmp/build/80754af9/scikit-learn_1642617106979/work\n"
                    ]
                }
            ],
            "source": [
                "!pip freeze | grep scikit-learn"
            ]
        },
        {
            "cell_type": "code",
            "execution_count": 2,
            "id": "0ef880a0",
            "metadata": {},
            "outputs": [],
            "source": [
                "import pickle\n",
                "import pandas as pd"
            ]
        },
        {
            "cell_type": "code",
            "execution_count": 4,
            "id": "7836ccfd",
            "metadata": {},
            "outputs": [],
            "source": [
                "with open('model.bin', 'rb') as f_in:\n",
                "    dv, lr = pickle.load(f_in)"
            ]
        },
        {
            "cell_type": "code",
            "execution_count": 5,
            "id": "41c08294",
            "metadata": {},
            "outputs": [],
            "source": [
                "categorical = ['PUlocationID', 'DOlocationID']\n",
                "\n",
                "def read_data(filename):\n",
                "    df = pd.read_parquet(filename)\n",
                "    \n",
                "    df['duration'] = df.dropOff_datetime - df.pickup_datetime\n",
                "    df['duration'] = df.duration.dt.total_seconds() / 60\n",
                "\n",
                "    df = df[(df.duration >= 1) & (df.duration <= 60)].copy()\n",
                "\n",
                "    df[categorical] = df[categorical].fillna(-1).astype('int').astype('str')\n",
                "    \n",
                "    return df"
            ]
        },
        {
            "cell_type": "code",
            "execution_count": null,
            "id": "76265e55",
            "metadata": {},
            "outputs": [],
            "source": [
                "https://nyc-tlc.s3.amazonaws.com/trip+data/fhv_tripdata_2021-02.parquet"
            ]
        },
        {
            "cell_type": "code",
            "execution_count": 7,
            "id": "4854399a",
            "metadata": {},
            "outputs": [],
            "source": [
                "df = read_data('https://nyc-tlc.s3.amazonaws.com/trip+data/fhv_tripdata_2021-02.parquet')"
            ]
        },
        {
            "cell_type": "code",
            "execution_count": 9,
            "id": "30b633aa",
            "metadata": {},
            "outputs": [
                {
                    "data": {
                        "text/plain": [
                            "16.859265811074575"
                        ]
                    },
                    "execution_count": 9,
                    "metadata": {},
                    "output_type": "execute_result"
                }
            ],
            "source": [
                "df['duration'].mean()"
            ]
        },
        {
            "cell_type": "code",
            "execution_count": 10,
            "id": "669fda0a",
            "metadata": {},
            "outputs": [],
            "source": [
                "dicts = df[categorical].to_dict(orient='records')\n",
                "X_val = dv.transform(dicts)\n",
                "y_pred = lr.predict(X_val)"
            ]
        },
        {
            "cell_type": "code",
            "execution_count": 14,
            "id": "47676144",
            "metadata": {},
            "outputs": [
                {
                    "data": {
                        "text/plain": [
                            "16.191691679979066"
                        ]
                    },
                    "execution_count": 14,
                    "metadata": {},
                    "output_type": "execute_result"
                }
            ],
            "source": [
                "y_pred.mean()"
            ]
        },
        {
            "cell_type": "code",
            "execution_count": 16,
            "id": "146ac0ab",
            "metadata": {},
            "outputs": [
                {
                    "ename": "SyntaxError",
                    "evalue": "leading zeros in decimal integer literals are not permitted; use an 0o prefix for octal integers (1792182042.py, line 1)",
                    "output_type": "error",
                    "traceback": [
                        "\u001b[0;36m  Input \u001b[0;32mIn [16]\u001b[0;36m\u001b[0m\n\u001b[0;31m    df['ride_id'] = f'{2021:04d}/{02:02d}_' + df.index.astype('str')\u001b[0m\n\u001b[0m      ^\u001b[0m\n\u001b[0;31mSyntaxError\u001b[0m\u001b[0;31m:\u001b[0m leading zeros in decimal integer literals are not permitted; use an 0o prefix for octal integers\n"
                    ]
                }
            ],
            "source": [
                "df['ride_id'] = f'{2021:04d}/{02:02d}_' + df.index.astype('str')"
            ]
        },
        {
            "cell_type": "code",
            "execution_count": null,
            "id": "290d9085",
            "metadata": {},
            "outputs": [],
            "source": []
        }
    ],
    "metadata": {
        "kernelspec": {
            "display_name": "Python 3.9.12 ('mlops')",
            "language": "python",
            "name": "python3"
        },
        "language_info": {
            "codemirror_mode": {
                "name": "ipython",
                "version": 3
            },
            "file_extension": ".py",
            "mimetype": "text/x-python",
            "name": "python",
            "nbconvert_exporter": "python",
            "pygments_lexer": "ipython3",
            "version": "3.9.12"
        },
        "vscode": {
            "interpreter": {
                "hash": "c6403e7e52764e97bf891f0bfccd05b4e92154707b09dd18ee75ff6a619bb8fe"
            }
        }
    },
    "nbformat": 4,
    "nbformat_minor": 5
}

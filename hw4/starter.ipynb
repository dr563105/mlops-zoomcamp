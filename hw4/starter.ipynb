{
    "cells": [
        {
            "cell_type": "code",
            "execution_count": 1,
            "id": "2c51efaa",
            "metadata": {},
            "outputs": [
                {
                    "name": "stdout",
                    "output_type": "stream",
                    "text": [
                        "scikit-learn @ file:///tmp/build/80754af9/scikit-learn_1642617106979/work\n"
                    ]
                }
            ],
            "source": [
                "!pip freeze | grep scikit-learn"
            ]
        },
        {
            "cell_type": "code",
            "execution_count": 3,
            "id": "0ef880a0",
            "metadata": {},
            "outputs": [],
            "source": [
                "import pickle\n",
                "import pandas as pd"
            ]
        },
        {
            "cell_type": "code",
            "execution_count": 4,
            "id": "7836ccfd",
            "metadata": {},
            "outputs": [],
            "source": [
                "with open('model.bin', 'rb') as f_in:\n",
                "    dv, lr = pickle.load(f_in)"
            ]
        },
        {
            "cell_type": "code",
            "execution_count": 5,
            "id": "41c08294",
            "metadata": {},
            "outputs": [],
            "source": [
                "categorical = ['PUlocationID', 'DOlocationID']\n",
                "\n",
                "def read_data(filename):\n",
                "    df = pd.read_parquet(filename)\n",
                "    \n",
                "    df['duration'] = df.dropOff_datetime - df.pickup_datetime\n",
                "    df['duration'] = df.duration.dt.total_seconds() / 60\n",
                "\n",
                "    df = df[(df.duration >= 1) & (df.duration <= 60)].copy()\n",
                "\n",
                "    df[categorical] = df[categorical].fillna(-1).astype('int').astype('str')\n",
                "    \n",
                "    return df"
            ]
        },
        {
            "cell_type": "code",
            "execution_count": 6,
            "id": "4854399a",
            "metadata": {},
            "outputs": [],
            "source": [
                "df = read_data('https://nyc-tlc.s3.amazonaws.com/trip+data/fhv_tripdata_2021-02.parquet')"
            ]
        },
        {
            "cell_type": "code",
            "execution_count": 7,
            "id": "669fda0a",
            "metadata": {},
            "outputs": [],
            "source": [
                "dicts = df[categorical].to_dict(orient='records')\n",
                "X_val = dv.transform(dicts)\n",
                "y_pred = lr.predict(X_val)"
            ]
        },
        {
            "cell_type": "code",
            "execution_count": 8,
            "id": "47676144",
            "metadata": {},
            "outputs": [
                {
                    "data": {
                        "text/plain": [
                            "16.191691679979066"
                        ]
                    },
                    "execution_count": 8,
                    "metadata": {},
                    "output_type": "execute_result"
                }
            ],
            "source": [
                "y_pred.mean()"
            ]
        },
        {
            "cell_type": "code",
            "execution_count": 9,
            "id": "146ac0ab",
            "metadata": {},
            "outputs": [],
            "source": [
                "year = 2021\n",
                "month = 2\n",
                "df['ride_id'] = f'{year:04d}/{month:02d}_' + df.index.astype('str')"
            ]
        },
        {
            "cell_type": "code",
            "execution_count": 11,
            "id": "290d9085",
            "metadata": {},
            "outputs": [
                {
                    "data": {
                        "text/plain": [
                            "array([14.53986486, 13.74042222, 15.59333908, ..., 15.83492293,\n",
                            "       16.78317605, 19.65462607])"
                        ]
                    },
                    "execution_count": 11,
                    "metadata": {},
                    "output_type": "execute_result"
                }
            ],
            "source": [
                "y_pred"
            ]
        },
        {
            "cell_type": "code",
            "execution_count": 14,
            "id": "2092b4ba",
            "metadata": {},
            "outputs": [],
            "source": [
                "df_result = pd.DataFrame()\n",
                "df_result['ride_id'] = df['ride_id']\n",
                "df_result['predicted_duration'] = y_pred"
            ]
        },
        {
            "cell_type": "code",
            "execution_count": 15,
            "id": "76fb3d0a",
            "metadata": {},
            "outputs": [
                {
                    "data": {
                        "text/html": [
                            "<div>\n",
                            "<style scoped>\n",
                            "    .dataframe tbody tr th:only-of-type {\n",
                            "        vertical-align: middle;\n",
                            "    }\n",
                            "\n",
                            "    .dataframe tbody tr th {\n",
                            "        vertical-align: top;\n",
                            "    }\n",
                            "\n",
                            "    .dataframe thead th {\n",
                            "        text-align: right;\n",
                            "    }\n",
                            "</style>\n",
                            "<table border=\"1\" class=\"dataframe\">\n",
                            "  <thead>\n",
                            "    <tr style=\"text-align: right;\">\n",
                            "      <th></th>\n",
                            "      <th>ride_id</th>\n",
                            "      <th>predicted_duration</th>\n",
                            "    </tr>\n",
                            "  </thead>\n",
                            "  <tbody>\n",
                            "    <tr>\n",
                            "      <th>1</th>\n",
                            "      <td>2021/02_1</td>\n",
                            "      <td>14.539865</td>\n",
                            "    </tr>\n",
                            "    <tr>\n",
                            "      <th>2</th>\n",
                            "      <td>2021/02_2</td>\n",
                            "      <td>13.740422</td>\n",
                            "    </tr>\n",
                            "    <tr>\n",
                            "      <th>3</th>\n",
                            "      <td>2021/02_3</td>\n",
                            "      <td>15.593339</td>\n",
                            "    </tr>\n",
                            "    <tr>\n",
                            "      <th>4</th>\n",
                            "      <td>2021/02_4</td>\n",
                            "      <td>15.188118</td>\n",
                            "    </tr>\n",
                            "    <tr>\n",
                            "      <th>5</th>\n",
                            "      <td>2021/02_5</td>\n",
                            "      <td>13.817206</td>\n",
                            "    </tr>\n",
                            "  </tbody>\n",
                            "</table>\n",
                            "</div>"
                        ],
                        "text/plain": [
                            "     ride_id  predicted_duration\n",
                            "1  2021/02_1           14.539865\n",
                            "2  2021/02_2           13.740422\n",
                            "3  2021/02_3           15.593339\n",
                            "4  2021/02_4           15.188118\n",
                            "5  2021/02_5           13.817206"
                        ]
                    },
                    "execution_count": 15,
                    "metadata": {},
                    "output_type": "execute_result"
                }
            ],
            "source": [
                "df_result.head()"
            ]
        },
        {
            "cell_type": "code",
            "execution_count": 17,
            "id": "25c3c293",
            "metadata": {},
            "outputs": [],
            "source": [
                "output_file = \"./out.parquet\"\n",
                "df_result.to_parquet(\n",
                "    output_file,\n",
                "    engine='pyarrow',\n",
                "    compression=None,\n",
                "    index=False\n",
                ")"
            ]
        },
        {
            "cell_type": "code",
            "execution_count": 21,
            "id": "9afe75b0",
            "metadata": {},
            "outputs": [
                {
                    "name": "stdout",
                    "output_type": "stream",
                    "text": [
                        "-rw-rw-r-- 1 ubuntu ubuntu 19M Jun 27 10:50 ./out.parquet\n"
                    ]
                }
            ],
            "source": [
                "!ls -lh ./out.parquet"
            ]
        },
        {
            "cell_type": "code",
            "execution_count": null,
            "id": "439644b7",
            "metadata": {},
            "outputs": [],
            "source": []
        }
    ],
    "metadata": {
        "kernelspec": {
            "display_name": "Python 3.9.12 ('mlops')",
            "language": "python",
            "name": "python3"
        },
        "language_info": {
            "codemirror_mode": {
                "name": "ipython",
                "version": 3
            },
            "file_extension": ".py",
            "mimetype": "text/x-python",
            "name": "python",
            "nbconvert_exporter": "python",
            "pygments_lexer": "ipython3",
            "version": "3.9.12"
        },
        "vscode": {
            "interpreter": {
                "hash": "c6403e7e52764e97bf891f0bfccd05b4e92154707b09dd18ee75ff6a619bb8fe"
            }
        }
    },
    "nbformat": 4,
    "nbformat_minor": 5
}

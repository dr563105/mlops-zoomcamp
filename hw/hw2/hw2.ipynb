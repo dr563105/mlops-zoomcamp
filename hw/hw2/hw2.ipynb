{
 "cells": [
  {
   "cell_type": "code",
   "execution_count": 1,
   "metadata": {},
   "outputs": [],
   "source": [
    "import mlflow\n",
    "tracking_uri = mlflow.set_tracking_uri('sqlite:///hw2.db')\n",
    "client = mlflow.tracking.MlflowClient(tracking_uri=tracking_uri)\n",
    "experiment = client.list_experiments()\n",
    "runs = client.search_runs(experiment[1].experiment_id,run_view_type=mlflow.entities.ViewType.ACTIVE_ONLY,max_results=1, order_by = ['metrics.rmse'])"
   ]
  },
  {
   "cell_type": "code",
   "execution_count": 10,
   "metadata": {},
   "outputs": [
    {
     "data": {
      "text/plain": [
       "'5fe74500253a480e944578404c08c116'"
      ]
     },
     "execution_count": 10,
     "metadata": {},
     "output_type": "execute_result"
    }
   ],
   "source": [
    "runs[0].info.run_id"
   ]
  },
  {
   "cell_type": "code",
   "execution_count": null,
   "metadata": {},
   "outputs": [],
   "source": []
  }
 ],
 "metadata": {
  "interpreter": {
   "hash": "c6403e7e52764e97bf891f0bfccd05b4e92154707b09dd18ee75ff6a619bb8fe"
  },
  "kernelspec": {
   "display_name": "Python 3.9.12 ('mlops')",
   "language": "python",
   "name": "python3"
  },
  "language_info": {
   "codemirror_mode": {
    "name": "ipython",
    "version": 3
   },
   "file_extension": ".py",
   "mimetype": "text/x-python",
   "name": "python",
   "nbconvert_exporter": "python",
   "pygments_lexer": "ipython3",
   "version": "3.9.12"
  },
  "orig_nbformat": 4
 },
 "nbformat": 4,
 "nbformat_minor": 2
}

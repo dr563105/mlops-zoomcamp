{
 "cells": [
  {
   "cell_type": "code",
   "execution_count": 1,
   "id": "f737b1e5",
   "metadata": {},
   "outputs": [],
   "source": [
    "import pandas as pd\n",
    "from sklearn.feature_extraction import DictVectorizer\n",
    "from sklearn.linear_model import LinearRegression\n",
    "from sklearn.metrics import mean_squared_error"
   ]
  },
  {
   "cell_type": "code",
   "execution_count": 2,
   "id": "2d62899b",
   "metadata": {},
   "outputs": [],
   "source": [
    "df_for_hire = pd.read_parquet(\"../input/fhv_tripdata_2021-01.parquet\")"
   ]
  },
  {
   "cell_type": "code",
   "execution_count": 3,
   "id": "7cfcc4ab",
   "metadata": {},
   "outputs": [
    {
     "data": {
      "text/html": [
       "<div>\n",
       "<style scoped>\n",
       "    .dataframe tbody tr th:only-of-type {\n",
       "        vertical-align: middle;\n",
       "    }\n",
       "\n",
       "    .dataframe tbody tr th {\n",
       "        vertical-align: top;\n",
       "    }\n",
       "\n",
       "    .dataframe thead th {\n",
       "        text-align: right;\n",
       "    }\n",
       "</style>\n",
       "<table border=\"1\" class=\"dataframe\">\n",
       "  <thead>\n",
       "    <tr style=\"text-align: right;\">\n",
       "      <th></th>\n",
       "      <th>dispatching_base_num</th>\n",
       "      <th>pickup_datetime</th>\n",
       "      <th>dropOff_datetime</th>\n",
       "      <th>PUlocationID</th>\n",
       "      <th>DOlocationID</th>\n",
       "      <th>SR_Flag</th>\n",
       "      <th>Affiliated_base_number</th>\n",
       "    </tr>\n",
       "  </thead>\n",
       "  <tbody>\n",
       "    <tr>\n",
       "      <th>0</th>\n",
       "      <td>B00009</td>\n",
       "      <td>2021-01-01 00:27:00</td>\n",
       "      <td>2021-01-01 00:44:00</td>\n",
       "      <td>NaN</td>\n",
       "      <td>NaN</td>\n",
       "      <td>None</td>\n",
       "      <td>B00009</td>\n",
       "    </tr>\n",
       "    <tr>\n",
       "      <th>1</th>\n",
       "      <td>B00009</td>\n",
       "      <td>2021-01-01 00:50:00</td>\n",
       "      <td>2021-01-01 01:07:00</td>\n",
       "      <td>NaN</td>\n",
       "      <td>NaN</td>\n",
       "      <td>None</td>\n",
       "      <td>B00009</td>\n",
       "    </tr>\n",
       "    <tr>\n",
       "      <th>2</th>\n",
       "      <td>B00013</td>\n",
       "      <td>2021-01-01 00:01:00</td>\n",
       "      <td>2021-01-01 01:51:00</td>\n",
       "      <td>NaN</td>\n",
       "      <td>NaN</td>\n",
       "      <td>None</td>\n",
       "      <td>B00013</td>\n",
       "    </tr>\n",
       "    <tr>\n",
       "      <th>3</th>\n",
       "      <td>B00037</td>\n",
       "      <td>2021-01-01 00:13:09</td>\n",
       "      <td>2021-01-01 00:21:26</td>\n",
       "      <td>NaN</td>\n",
       "      <td>72.0</td>\n",
       "      <td>None</td>\n",
       "      <td>B00037</td>\n",
       "    </tr>\n",
       "    <tr>\n",
       "      <th>4</th>\n",
       "      <td>B00037</td>\n",
       "      <td>2021-01-01 00:38:31</td>\n",
       "      <td>2021-01-01 00:53:44</td>\n",
       "      <td>NaN</td>\n",
       "      <td>61.0</td>\n",
       "      <td>None</td>\n",
       "      <td>B00037</td>\n",
       "    </tr>\n",
       "  </tbody>\n",
       "</table>\n",
       "</div>"
      ],
      "text/plain": [
       "  dispatching_base_num     pickup_datetime    dropOff_datetime  PUlocationID  \\\n",
       "0               B00009 2021-01-01 00:27:00 2021-01-01 00:44:00           NaN   \n",
       "1               B00009 2021-01-01 00:50:00 2021-01-01 01:07:00           NaN   \n",
       "2               B00013 2021-01-01 00:01:00 2021-01-01 01:51:00           NaN   \n",
       "3               B00037 2021-01-01 00:13:09 2021-01-01 00:21:26           NaN   \n",
       "4               B00037 2021-01-01 00:38:31 2021-01-01 00:53:44           NaN   \n",
       "\n",
       "   DOlocationID SR_Flag Affiliated_base_number  \n",
       "0           NaN    None                 B00009  \n",
       "1           NaN    None                 B00009  \n",
       "2           NaN    None                 B00013  \n",
       "3          72.0    None                 B00037  \n",
       "4          61.0    None                 B00037  "
      ]
     },
     "execution_count": 3,
     "metadata": {},
     "output_type": "execute_result"
    }
   ],
   "source": [
    "df_for_hire.head()"
   ]
  },
  {
   "cell_type": "markdown",
   "id": "1fb75f34",
   "metadata": {},
   "source": [
    "## Q1: Number of records in Jan 2021 FHV data?"
   ]
  },
  {
   "cell_type": "code",
   "execution_count": 4,
   "id": "2081d16c",
   "metadata": {},
   "outputs": [
    {
     "data": {
      "text/plain": [
       "(1154112, 7)"
      ]
     },
     "execution_count": 4,
     "metadata": {},
     "output_type": "execute_result"
    }
   ],
   "source": [
    "df_for_hire.shape"
   ]
  },
  {
   "cell_type": "markdown",
   "id": "b0646598",
   "metadata": {},
   "source": [
    "### Q1 answer: 1154112"
   ]
  },
  {
   "cell_type": "code",
   "execution_count": 5,
   "id": "4a4180a5",
   "metadata": {
    "scrolled": true
   },
   "outputs": [
    {
     "data": {
      "text/plain": [
       "dispatching_base_num              object\n",
       "pickup_datetime           datetime64[ns]\n",
       "dropOff_datetime          datetime64[ns]\n",
       "PUlocationID                     float64\n",
       "DOlocationID                     float64\n",
       "SR_Flag                           object\n",
       "Affiliated_base_number            object\n",
       "dtype: object"
      ]
     },
     "execution_count": 5,
     "metadata": {},
     "output_type": "execute_result"
    }
   ],
   "source": [
    "df_for_hire.dtypes"
   ]
  },
  {
   "cell_type": "code",
   "execution_count": 6,
   "id": "e8df5e88",
   "metadata": {},
   "outputs": [],
   "source": [
    "df_for_hire['duration_in_sec'] = (df_for_hire['dropOff_datetime'] - df_for_hire['pickup_datetime']).dt.total_seconds()/60.0"
   ]
  },
  {
   "cell_type": "markdown",
   "id": "7e0d2069",
   "metadata": {},
   "source": [
    "## Q2: Average duration in Jan 2021 FHV?"
   ]
  },
  {
   "cell_type": "code",
   "execution_count": 7,
   "id": "624a1cbb",
   "metadata": {},
   "outputs": [
    {
     "data": {
      "text/plain": [
       "19.1672240937939"
      ]
     },
     "execution_count": 7,
     "metadata": {},
     "output_type": "execute_result"
    }
   ],
   "source": [
    "df_for_hire['duration_in_sec'].mean()"
   ]
  },
  {
   "cell_type": "markdown",
   "id": "6abad155",
   "metadata": {},
   "source": [
    "### Q2 answer: 19.16"
   ]
  },
  {
   "cell_type": "markdown",
   "id": "0f4eda49",
   "metadata": {},
   "source": [
    "## Q3: Fraction of missing values in column PUlocationID"
   ]
  },
  {
   "cell_type": "code",
   "execution_count": 8,
   "id": "98ca3feb",
   "metadata": {},
   "outputs": [
    {
     "data": {
      "text/plain": [
       "True     958267\n",
       "False    195845\n",
       "Name: PUlocationID, dtype: int64"
      ]
     },
     "execution_count": 8,
     "metadata": {},
     "output_type": "execute_result"
    }
   ],
   "source": [
    "df_for_hire['PUlocationID'].isna().value_counts()"
   ]
  },
  {
   "cell_type": "code",
   "execution_count": 9,
   "id": "2ca102fb",
   "metadata": {
    "scrolled": true
   },
   "outputs": [
    {
     "data": {
      "text/plain": [
       "False    991892\n",
       "True     162220\n",
       "Name: DOlocationID, dtype: int64"
      ]
     },
     "execution_count": 9,
     "metadata": {},
     "output_type": "execute_result"
    }
   ],
   "source": [
    "df_for_hire['DOlocationID'].isna().value_counts()"
   ]
  },
  {
   "cell_type": "code",
   "execution_count": 10,
   "id": "10bacc0d",
   "metadata": {},
   "outputs": [],
   "source": [
    "df_for_hire['PUlocationID'].fillna(-1.0,inplace=True)\n",
    "df_for_hire['DOlocationID'].fillna(-1.0,inplace=True)"
   ]
  },
  {
   "cell_type": "code",
   "execution_count": 11,
   "id": "a894aa1f",
   "metadata": {},
   "outputs": [
    {
     "data": {
      "text/plain": [
       "83.03067639882438"
      ]
     },
     "execution_count": 11,
     "metadata": {},
     "output_type": "execute_result"
    }
   ],
   "source": [
    "((df_for_hire['PUlocationID']== -1.0).sum()/df_for_hire.shape[0])*100"
   ]
  },
  {
   "cell_type": "markdown",
   "id": "0ff016dc",
   "metadata": {},
   "source": [
    "### Q3 answer: 83.03%"
   ]
  },
  {
   "cell_type": "markdown",
   "id": "6ec4c01e",
   "metadata": {},
   "source": [
    "## Q4: Dimensionality after OHE. Number of columns"
   ]
  },
  {
   "cell_type": "code",
   "execution_count": 12,
   "id": "2aec3720",
   "metadata": {},
   "outputs": [],
   "source": [
    "df_for_hire = df_for_hire.loc[(df_for_hire['duration_in_sec'] >= 1) & (df_for_hire['duration_in_sec'] <= 60)]"
   ]
  },
  {
   "cell_type": "code",
   "execution_count": 13,
   "id": "06921ee9",
   "metadata": {},
   "outputs": [
    {
     "name": "stdout",
     "output_type": "stream",
     "text": [
      "CPU times: user 3.58 s, sys: 373 ms, total: 3.95 s\n",
      "Wall time: 3.93 s\n"
     ]
    }
   ],
   "source": [
    "%%time\n",
    "features = ['PUlocationID', 'DOlocationID']\n",
    "df_for_hire[features] = df_for_hire[features].astype(str)\n",
    "dv = DictVectorizer()\n",
    "features_dict = df_for_hire[features].to_dict(orient='records')"
   ]
  },
  {
   "cell_type": "code",
   "execution_count": 14,
   "id": "42565739",
   "metadata": {},
   "outputs": [
    {
     "name": "stdout",
     "output_type": "stream",
     "text": [
      "CPU times: user 2.42 s, sys: 111 ms, total: 2.53 s\n",
      "Wall time: 2.52 s\n"
     ]
    }
   ],
   "source": [
    "%%time\n",
    "X_train = dv.fit_transform(features_dict)"
   ]
  },
  {
   "cell_type": "code",
   "execution_count": 15,
   "id": "dbebe394",
   "metadata": {},
   "outputs": [
    {
     "data": {
      "text/plain": [
       "(1109826, 525)"
      ]
     },
     "execution_count": 15,
     "metadata": {},
     "output_type": "execute_result"
    }
   ],
   "source": [
    "X_train.shape"
   ]
  },
  {
   "cell_type": "markdown",
   "id": "8d092264",
   "metadata": {},
   "source": [
    "### Q4 answer: 525"
   ]
  },
  {
   "cell_type": "markdown",
   "id": "b302c365",
   "metadata": {},
   "source": [
    "## Q5: Calculate RMSE on X_train"
   ]
  },
  {
   "cell_type": "code",
   "execution_count": 16,
   "id": "f4967c43",
   "metadata": {},
   "outputs": [
    {
     "name": "stdout",
     "output_type": "stream",
     "text": [
      "CPU times: user 37 s, sys: 1.97 s, total: 39 s\n",
      "Wall time: 9.8 s\n"
     ]
    },
    {
     "data": {
      "text/plain": [
       "10.528519107212292"
      ]
     },
     "execution_count": 16,
     "metadata": {},
     "output_type": "execute_result"
    }
   ],
   "source": [
    "%%time\n",
    "target = 'duration_in_sec'\n",
    "y_train = df_for_hire[target].to_numpy()\n",
    "lr = LinearRegression()\n",
    "lr.fit(X_train, y_train)\n",
    "\n",
    "y_pred = lr.predict(X_train)\n",
    "\n",
    "mean_squared_error(y_train, y_pred, squared=False)"
   ]
  },
  {
   "cell_type": "markdown",
   "id": "af5e1429",
   "metadata": {},
   "source": [
    "### Q5 answer: 10.52"
   ]
  },
  {
   "cell_type": "markdown",
   "id": "9ba61aec",
   "metadata": {},
   "source": [
    "## Q6: Calculate RMSE on X_valid"
   ]
  },
  {
   "cell_type": "code",
   "execution_count": 17,
   "id": "3a2b5c1c",
   "metadata": {},
   "outputs": [
    {
     "name": "stdout",
     "output_type": "stream",
     "text": [
      "CPU times: user 353 ms, sys: 149 ms, total: 502 ms\n",
      "Wall time: 290 ms\n"
     ]
    }
   ],
   "source": [
    "%%time\n",
    "df_feb2021 = pd.read_parquet('../input/fhv_tripdata_2021-02.parquet')\n",
    "df_feb2021['duration_in_sec'] = (df_feb2021['dropOff_datetime'] - df_feb2021['pickup_datetime']).dt.total_seconds()/60.0\n",
    "\n",
    "df_feb2021 = df_feb2021.loc[(df_feb2021['duration_in_sec'] >= 1) & (df_feb2021['duration_in_sec'] <= 60)]\n"
   ]
  },
  {
   "cell_type": "code",
   "execution_count": 18,
   "id": "40bb6b9a",
   "metadata": {},
   "outputs": [
    {
     "name": "stdout",
     "output_type": "stream",
     "text": [
      "CPU times: user 5.39 s, sys: 294 ms, total: 5.69 s\n",
      "Wall time: 5.69 s\n"
     ]
    }
   ],
   "source": [
    "%%time\n",
    "df_feb2021['PUlocationID'].fillna(-1.0,inplace=True)\n",
    "df_feb2021['DOlocationID'].fillna(-1.0,inplace=True)\n",
    "df_feb2021[features] = df_feb2021[features].astype(str)\n",
    "test_dict = df_feb2021[features].to_dict(orient='records')\n",
    "\n",
    "X_valid = dv.transform(test_dict)\n",
    "y_valid = df_feb2021[target].to_numpy()"
   ]
  },
  {
   "cell_type": "code",
   "execution_count": 19,
   "id": "fa7e61d2",
   "metadata": {},
   "outputs": [
    {
     "data": {
      "text/plain": [
       "11.014283211122269"
      ]
     },
     "execution_count": 19,
     "metadata": {},
     "output_type": "execute_result"
    }
   ],
   "source": [
    "y_pred1 = lr.predict(X_valid)\n",
    "\n",
    "mean_squared_error(y_valid, y_pred1, squared=False)"
   ]
  },
  {
   "cell_type": "markdown",
   "id": "d5c07700",
   "metadata": {},
   "source": [
    "### Q6 answer: 11.01"
   ]
  },
  {
   "cell_type": "code",
   "execution_count": 20,
   "id": "53e5c720",
   "metadata": {},
   "outputs": [],
   "source": [
    "import pickle"
   ]
  },
  {
   "cell_type": "code",
   "execution_count": 21,
   "id": "77c6ecdb",
   "metadata": {},
   "outputs": [],
   "source": [
    "with open('models/lin_reg.pickle', 'wb') as f_out:\n",
    "    pickle.dump((dv, lr), f_out)"
   ]
  }
 ],
 "metadata": {
  "kernelspec": {
   "display_name": "Python 3 (ipykernel)",
   "language": "python",
   "name": "python3"
  },
  "language_info": {
   "codemirror_mode": {
    "name": "ipython",
    "version": 3
   },
   "file_extension": ".py",
   "mimetype": "text/x-python",
   "name": "python",
   "nbconvert_exporter": "python",
   "pygments_lexer": "ipython3",
   "version": "3.9.12"
  }
 },
 "nbformat": 4,
 "nbformat_minor": 5
}
